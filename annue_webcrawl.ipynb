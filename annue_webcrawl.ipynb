{
 "cells": [
  {
   "cell_type": "markdown",
   "metadata": {},
   "source": [
    "### import library"
   ]
  },
  {
   "cell_type": "code",
   "execution_count": 1,
   "metadata": {},
   "outputs": [],
   "source": [
    "import re\n",
    "import time\n",
    "import requests\n",
    "from bs4 import BeautifulSoup\n",
    "import json\n",
    "from datetime import datetime, timedelta\n",
    "import brotli\n",
    "import pytz\n"
   ]
  },
  {
   "cell_type": "markdown",
   "metadata": {},
   "source": [
    "### Get current time "
   ]
  },
  {
   "cell_type": "code",
   "execution_count": 2,
   "metadata": {},
   "outputs": [],
   "source": [
    "from datetime import datetime\n",
    "import pytz\n",
    "\n",
    "# Set the timezone to Taipei\n",
    "taipei_tz = pytz.timezone('Asia/Taipei')\n",
    "\n",
    "# Get current date and time in Taipei timezone\n",
    "current_time_in_taipei = datetime.now(taipei_tz)\n",
    "\n",
    "# convert to utc for unix time calculation\n",
    "convert_utc = current_time_in_taipei.astimezone(pytz.utc)\n",
    "\n",
    "# Calculate tomorrow's date\n",
    "tomorrow = convert_utc + timedelta(days=1)\n",
    "\n",
    "# Set the time to 05:59:59\n",
    "tomorrow_5_59_59 = tomorrow.replace(hour=5, minute=59, second=59, microsecond=0)\n",
    "\n",
    "# Convert to timestamp\n",
    "tomorrow_5_59_59_timestamp = int(tomorrow_5_59_59.timestamp())\n",
    "\n",
    "# Calculate past ten's date\n",
    "past_ten = convert_utc - timedelta(days=10)\n",
    "\n",
    "# Set the time to 06:00:00\n",
    "past_ten_6_00_00 = past_ten.replace(hour=6, minute=0, second=0, microsecond=0)\n",
    "\n",
    "# Convert to timestamp\n",
    "past_ten_6_00_00_timestamp = int(past_ten_6_00_00.timestamp())"
   ]
  },
  {
   "cell_type": "markdown",
   "metadata": {},
   "source": [
    "### Crawling Annue(鉅亨網)"
   ]
  },
  {
   "cell_type": "code",
   "execution_count": 3,
   "metadata": {},
   "outputs": [
    {
     "name": "stdout",
     "output_type": "stream",
     "text": [
      "00919拉回可以加碼嗎?前10大成分透漏什麼端倪?   https://news.cnyes.com/news/id/5424666\n",
      "【量大強漲股整理】台股震盪回檔，出現止穩訊號?元月仍有紅包行情可期?   https://news.cnyes.com/news/id/5424613\n",
      "台股重挫300點破月線後第一季買還是賣? CES消費電子展指標股 台積電 聯發科 鴻海 大立光，元旦疫情升溫 防疫概念股 康那香 熱映 亞諾法   https://news.cnyes.com/news/id/5424587\n",
      "【新台股龍捲風】金麗科過高！中國市場契機？！安國休息！換拉神盾！接下來看誰？   https://news.cnyes.com/news/id/5424574\n",
      "〈台股盤後〉遇月線反壓量縮翻黑小跌9點 貨櫃三雄逆風揚帆   https://news.cnyes.com/news/id/5424478\n",
      "選舉行情結束 ? 重點在明天 ! 電子休息傳產該看誰 ?   https://news.cnyes.com/news/id/5423745\n",
      "大立光1/11召開法說 潛望鏡頭滲透率及毛利率發展受關注   https://news.cnyes.com/news/id/5423754\n",
      "【量大強漲股整理】台股震盪回檔，有機會先蹲後跳，個股輪動快速下，該如何選股?   https://news.cnyes.com/news/id/5423748\n",
      "〈台股盤後〉電子股權值大停電 大盤長黑摜破月線收跌294點   https://news.cnyes.com/news/id/5423650\n",
      "〈台股盤中〉電子股殺盤重挫逾300點 海運、防疫股抗跌   https://news.cnyes.com/news/id/5423604\n",
      "創高黑棒仍是多頭，台積電元月效應、鴻海補漲指標、聯發科 轉弱訊號、緯穎公開賣、奇鋐公開賺   https://news.cnyes.com/news/id/5423068\n",
      "兩岸三地市值500強  台積電重登市值王寶座   https://news.cnyes.com/news/id/5422984\n",
      "【量大強漲股整理】元月紅包行情可期?台股有機會先下後上? ETF夯，潛力股可鎖定誰?   https://news.cnyes.com/news/id/5423037\n",
      "〈台股盤後〉2024紅盤日權值股熄火 指數跌77點 航運、重電股逆揚   https://news.cnyes.com/news/id/5422948\n",
      "迅得2023年營收改寫歷史新高 結盟家登半導體產品本季起出貨   https://news.cnyes.com/news/id/5422921\n",
      "〈台股盤中〉2024開紅盤早盤翻黑重挫逾百點 貨櫃三雄逆揚   https://news.cnyes.com/news/id/5422826\n",
      "〈台股風向球〉熱錢伺機簇擁元月行情 發紅包順風車來了？   https://news.cnyes.com/news/id/5422306\n",
      "〈2024展望〉設備廠積極切入半導體製程設備領域挹注成長動能   https://news.cnyes.com/news/id/5422360\n",
      "〈2024展望〉半導體五地建廠需求強 廠務工程營運看旺   https://news.cnyes.com/news/id/5422348\n",
      "CES展大廠秀 AI肌肉 相關受惠股: 台積電 威剛 譜瑞 華碩 微星 奇鋐   https://news.cnyes.com/news/id/5421794\n",
      "2024消費電子AI化，IC設計聯發科突破千元掀比價效應，高位階的IP股轉弱應先避開，如創意 智原 世芯-KY   https://news.cnyes.com/news/id/5421793\n",
      "2023完美封關，2024年直上萬八或二萬點？專家：選股不選市，留意這三大方向   https://news.cnyes.com/news/id/5422029\n",
      "〈2023封關〉大立光今年漲幅超車台積電 並持有光學股漲幅王14%股權   https://news.cnyes.com/news/id/5422083\n",
      "〈台股2023封關〉外資最愛台積電 全年漲幅32%大舉回補3105億元居冠   https://news.cnyes.com/news/id/5421978\n",
      "〈台股盤中〉封關秀調節賣壓大 2大權值股熄火 攻萬八恐待明年   https://news.cnyes.com/news/id/5421713\n",
      "台幣強升 權值股任務達成後中小型股衝一波，台積電  高潮還沒來，朋程 欣興 威剛 奇鋐 量縮整理在攻   https://news.cnyes.com/news/id/5421134\n",
      "台積電拚2030年完成1奈米製程 單一封裝電晶體衝上1兆個   https://news.cnyes.com/news/id/5421256\n",
      "【量大強漲股整理】大選將近，電力股有戲嗎?該留意誰?   https://news.cnyes.com/news/id/5421247\n",
      "元月行情發酵！AI PC勝率100％，下一波就看這些法人核心持股！   https://news.cnyes.com/news/id/5421090\n",
      "〈台股盤後〉 重電、電器電纜紅通通 小漲攻克17900點迎封關   https://news.cnyes.com/news/id/5421011\n",
      "〈台股盤中〉開高17928創高後腳軟翻黑 重電、記憶體族群苦撐   https://news.cnyes.com/news/id/5420927\n",
      "台幣升破31大關，高潮還沒來事先講  一月萬八即將達陣，台積電 朋程 欣興 威剛 奇鋐   https://news.cnyes.com/news/id/5420432\n",
      "【量大強漲股整理】選舉+年終行情啟動，該如何選股?   https://news.cnyes.com/news/id/5420435\n",
      "〈台股盤後〉台股多頭氣盛衝上17800點創新高 續挑戰萬八大關   https://news.cnyes.com/news/id/5420328\n",
      "〈第一金證投資展望〉台股明年「萬物復甦」 高點上看19500點   https://news.cnyes.com/news/id/5420307\n",
      "〈台股盤中〉熱錢回流衝17877點 續寫今年新高   https://news.cnyes.com/news/id/5420236\n",
      "〈潘文淵獎〉英特爾1989年請台積電代工 曾繁城：一開始就知道是陰謀   https://news.cnyes.com/news/id/5419658\n",
      "〈潘文淵獎〉蔡力行：聯發科3奈米給台積電做 要更換非常困難   https://news.cnyes.com/news/id/5419643\n",
      "〈潘文淵獎〉蔡力行回顧過去30餘年 談職涯三個轉捩點   https://news.cnyes.com/news/id/5419628\n",
      "台幣強升 台股創高 CES展還有高潮，台積電 中美晶 環球晶 朋程 緯穎   https://news.cnyes.com/news/id/5419579\n",
      "【量大強漲股整理】AI邊緣運算再起，AI PC全面發動後，下一個接棒的主流會是誰?   https://news.cnyes.com/news/id/5419611\n",
      "聯發科蔡力行投身半導體業逾30年 榮獲第17屆潘文淵獎   https://news.cnyes.com/news/id/5419517\n",
      "〈台股盤中〉漲逾130點戰今年高 仁寶、面板雙虎強勢表態   https://news.cnyes.com/news/id/5419467\n",
      "【量大強漲股整理】資金+作夢行情啟動，台股進入外資放假，內資撐盤，把握哪【三面向】挖掘潛力股?   https://news.cnyes.com/news/id/5419153\n",
      "〈台股盤後〉外資放假  台股維持聖誕紅 光電、IC設計、AI PC形成金三角   https://news.cnyes.com/news/id/5419084\n",
      "〈台股盤中〉貨櫃三雄觸礁爆量下殺 電子股回歸主流 量縮震盪攻堅   https://news.cnyes.com/news/id/5418999\n",
      "美股創高，台股能跟上？2024年行情熱身，元月行情啟動，資金輪動如何掌握？專家：這些族群將成為資金焦點   https://news.cnyes.com/news/id/5418862\n"
     ]
    }
   ],
   "source": [
    "import requests\n",
    "import json\n",
    "\n",
    "def fetch_news(page, start_at, end_at, limit):\n",
    "    url = f\"https://api.cnyes.com/media/api/v1/newslist/category/tw_stock?page={page}&startAt={start_at}&endAt={end_at}&limit={limit}\"\n",
    "    headers = {\n",
    "        \"Accept\": \"application/json, text/plain, */*\",\n",
    "        \"User-Agent\": \"Mozilla/5.0 (Macintosh; Intel Mac OS X 10_15_7) AppleWebKit/537.36 (KHTML, like Gecko) Chrome/120.0.0.0 Safari/537.36\",\n",
    "        # Add other headers if necessary\n",
    "    }\n",
    "    \n",
    "    \n",
    "    response = requests.get(url, headers=headers)\n",
    "    if response.status_code != 200:\n",
    "        print('Invalid URL:', url)\n",
    "        print('Status Code:', response.status_code)\n",
    "        return None\n",
    "    else:\n",
    "        if response.headers.get('Content-Encoding') == 'br':\n",
    "            decompressed_content = brotli.decompress(response.content).decode('utf-8')\n",
    "        else:\n",
    "            decompressed_content = response.text\n",
    "        \n",
    "        try:\n",
    "            return json.loads(decompressed_content)\n",
    "        except json.JSONDecodeError:\n",
    "            print(\"Error decoding JSON\")\n",
    "            return None\n",
    "\n",
    "a = input(\"Please enter 'ONLY ONE' stockID or 'ONLY ONE' stock name to retrieve related news:\")\n",
    "\n",
    "\n",
    "start_at = past_ten_6_00_00_timestamp\n",
    "end_at = tomorrow_5_59_59_timestamp\n",
    "limit = 30\n",
    "\n",
    "\n",
    "page = 1\n",
    "while True:\n",
    "    news_data = fetch_news(page, start_at, end_at, limit)\n",
    "    if not news_data or 'items' not in news_data or not news_data['items']['data']:\n",
    "        # No more news data or invalid response\n",
    "        break\n",
    "\n",
    "    news = news_data['items']['data']\n",
    "    for n in news:\n",
    "        if a in n['stock'] or a in n['keyword']:\n",
    "            title = n['title']\n",
    "            url = \"https://news.cnyes.com/news/id/\" + str(n['newsId'])\n",
    "            print(title, \" \", url)\n",
    "    \n",
    "    page += 1  # Increment the page number for the next request"
   ]
  },
  {
   "cell_type": "code",
   "execution_count": null,
   "metadata": {},
   "outputs": [],
   "source": []
  }
 ],
 "metadata": {
  "kernelspec": {
   "display_name": "Python 3",
   "language": "python",
   "name": "python3"
  },
  "language_info": {
   "codemirror_mode": {
    "name": "ipython",
    "version": 3
   },
   "file_extension": ".py",
   "mimetype": "text/x-python",
   "name": "python",
   "nbconvert_exporter": "python",
   "pygments_lexer": "ipython3",
   "version": "3.10.4"
  }
 },
 "nbformat": 4,
 "nbformat_minor": 2
}
